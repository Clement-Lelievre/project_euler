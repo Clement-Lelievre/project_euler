{
 "cells": [
  {
   "cell_type": "markdown",
   "id": "ed9387b5",
   "metadata": {},
   "source": [
    "# The matrix sum problem"
   ]
  },
  {
   "cell_type": "markdown",
   "id": "ae876099",
   "metadata": {},
   "source": [
    "## Dense layers"
   ]
  },
  {
   "cell_type": "markdown",
   "id": "f2f19402",
   "metadata": {},
   "source": [
    "The matrix sum problem (https://projecteuler.net/problem=345) was fun, and I learnt a lot via looking at MrDrake's DP solution (https://projecteuler.net/thread=345#36977), which was far better than mine, both time and space-wise. Because it runs in under a tenth of a second on my machine,\n",
    "I can use it to get the labels of a dataset I can easily create with Numpy, and then train a neural network on this regression task.\n",
    "Let's see how a Tensorflow model does on this problem!\n",
    "\n"
   ]
  },
  {
   "cell_type": "code",
   "execution_count": 1,
   "id": "b0caa4c5",
   "metadata": {
    "ExecuteTime": {
     "end_time": "2023-04-25T14:55:33.928121Z",
     "start_time": "2023-04-25T14:55:16.050402Z"
    }
   },
   "outputs": [
    {
     "name": "stderr",
     "output_type": "stream",
     "text": [
      "2023-04-25 16:55:20.058241: W tensorflow/stream_executor/platform/default/dso_loader.cc:64] Could not load dynamic library 'libcudart.so.11.0'; dlerror: libcudart.so.11.0: cannot open shared object file: No such file or directory\n",
      "2023-04-25 16:55:20.058395: I tensorflow/stream_executor/cuda/cudart_stub.cc:29] Ignore above cudart dlerror if you do not have a GPU set up on your machine.\n"
     ]
    }
   ],
   "source": [
    "#from matrix_sum import dp_solution\n",
    "\n",
    "import numpy as np\n",
    "\n",
    "from tensorflow.keras import Sequential, layers, models\n",
    "import tensorflow as tf\n",
    "\n",
    "from sklearn.model_selection import train_test_split"
   ]
  },
  {
   "cell_type": "code",
   "execution_count": 2,
   "id": "f908fd1f",
   "metadata": {
    "ExecuteTime": {
     "end_time": "2023-04-25T14:55:33.945770Z",
     "start_time": "2023-04-25T14:55:33.941145Z"
    }
   },
   "outputs": [],
   "source": [
    "GRID_SIZE = (5, 5) "
   ]
  },
  {
   "cell_type": "code",
   "execution_count": 3,
   "id": "a6e2f587",
   "metadata": {
    "ExecuteTime": {
     "end_time": "2023-04-25T14:55:33.969077Z",
     "start_time": "2023-04-25T14:55:33.959065Z"
    }
   },
   "outputs": [],
   "source": [
    "def dp_solution(matrix: np.ndarray):\n",
    "    \"\"\"Submitted by user MrDrake from Australia on Project Euler,\n",
    "    on Sept 4th 2011. This solution leverages dynamic programming\n",
    "    and is way, way faster than mine (180 times, or about 2 orders of magnitude!)\n",
    "    while being also more compact, using less dependencies and probably less memory!\n",
    "    Hats off to you, MrDrake!\"\"\"\n",
    "    MINUS_INF = -float(\"inf\")\n",
    "    n = len(matrix)\n",
    "    dp = {0: 0}\n",
    "    # key is a bitmask representing the set of columns already visited,\n",
    "    # value is the max sum of the path\n",
    "    for row in range(n):\n",
    "        z = {}\n",
    "        for column in range(n):\n",
    "            x = 1 << column\n",
    "            # set the bit of the current column to 1, all other remain 0\n",
    "            for d in dp:\n",
    "                if x & d:\n",
    "                    # if in this mask, column `column` is visited, skip\n",
    "                    continue\n",
    "                y = matrix[row][column] + dp[d]\n",
    "                # path sum = current cell weight + previous path sum\n",
    "                if z.get(x | d, MINUS_INF) < y:\n",
    "                    z[x | d] = y  # update the max path sum\n",
    "        dp = z\n",
    "    return dp[(1 << n) - 1]  # (1 << n) - 1 is the mask with all bits set to 1,\n",
    "    # meaning we want the max path sum for all columns"
   ]
  },
  {
   "cell_type": "code",
   "execution_count": 4,
   "id": "0a837758",
   "metadata": {
    "ExecuteTime": {
     "end_time": "2023-04-25T14:55:36.335735Z",
     "start_time": "2023-04-25T14:55:33.982780Z"
    },
    "collapsed": true
   },
   "outputs": [
    {
     "name": "stderr",
     "output_type": "stream",
     "text": [
      "2023-04-25 16:55:36.151011: I tensorflow/stream_executor/cuda/cuda_gpu_executor.cc:922] could not open file to read NUMA node: /sys/bus/pci/devices/0000:01:00.0/numa_node\n",
      "Your kernel may have been built without NUMA support.\n",
      "2023-04-25 16:55:36.158102: W tensorflow/stream_executor/platform/default/dso_loader.cc:64] Could not load dynamic library 'libcudart.so.11.0'; dlerror: libcudart.so.11.0: cannot open shared object file: No such file or directory\n",
      "2023-04-25 16:55:36.158190: W tensorflow/stream_executor/platform/default/dso_loader.cc:64] Could not load dynamic library 'libcublas.so.11'; dlerror: libcublas.so.11: cannot open shared object file: No such file or directory\n",
      "2023-04-25 16:55:36.158247: W tensorflow/stream_executor/platform/default/dso_loader.cc:64] Could not load dynamic library 'libcublasLt.so.11'; dlerror: libcublasLt.so.11: cannot open shared object file: No such file or directory\n",
      "2023-04-25 16:55:36.158358: W tensorflow/stream_executor/platform/default/dso_loader.cc:64] Could not load dynamic library 'libcufft.so.10'; dlerror: libcufft.so.10: cannot open shared object file: No such file or directory\n",
      "2023-04-25 16:55:36.158418: W tensorflow/stream_executor/platform/default/dso_loader.cc:64] Could not load dynamic library 'libcurand.so.10'; dlerror: libcurand.so.10: cannot open shared object file: No such file or directory\n",
      "2023-04-25 16:55:36.158518: W tensorflow/stream_executor/platform/default/dso_loader.cc:64] Could not load dynamic library 'libcusolver.so.11'; dlerror: libcusolver.so.11: cannot open shared object file: No such file or directory\n",
      "2023-04-25 16:55:36.158580: W tensorflow/stream_executor/platform/default/dso_loader.cc:64] Could not load dynamic library 'libcusparse.so.11'; dlerror: libcusparse.so.11: cannot open shared object file: No such file or directory\n",
      "2023-04-25 16:55:36.158680: W tensorflow/stream_executor/platform/default/dso_loader.cc:64] Could not load dynamic library 'libcudnn.so.8'; dlerror: libcudnn.so.8: cannot open shared object file: No such file or directory\n",
      "2023-04-25 16:55:36.158694: W tensorflow/core/common_runtime/gpu/gpu_device.cc:1850] Cannot dlopen some GPU libraries. Please make sure the missing libraries mentioned above are installed properly if you would like to use GPU. Follow the guide at https://www.tensorflow.org/install/gpu for how to download and setup the required libraries for your platform.\n",
      "Skipping registering GPU devices...\n",
      "2023-04-25 16:55:36.161220: I tensorflow/core/platform/cpu_feature_guard.cc:151] This TensorFlow binary is optimized with oneAPI Deep Neural Network Library (oneDNN) to use the following CPU instructions in performance-critical operations:  AVX2 FMA\n",
      "To enable them in other operations, rebuild TensorFlow with the appropriate compiler flags.\n"
     ]
    }
   ],
   "source": [
    "# Création de l'architecture du modèle\n",
    "\n",
    "model = Sequential(name = 'simple_model')\n",
    "model.add(layers.Flatten(input_shape=GRID_SIZE))\n",
    "model.add(layers.Dense(50, activation='relu', name = 'hidden_layer_1'))\n",
    "model.add(layers.Dense(50, activation='relu', name = 'hidden_layer_2'))\n",
    "model.add(layers.Dense(50, activation='relu', name = 'hidden_layer_3'))\n",
    "model.add(layers.Dense(50, activation='relu', name = 'hidden_layer_4'))\n",
    "model.add(layers.Dense(25, activation='relu', name = 'hidden_layer_5'))\n",
    "model.add(layers.Dense(5, activation='relu', name = 'hidden_layer_6'))\n",
    "model.add(layers.Dense(1, activation='linear', name='output_neuron')) # la sortie\n",
    "\n",
    "\n",
    "# On 'compile' le modèle: essentiellement, on définit la loss, la metric, et l'optimizer\n",
    "\n",
    "model.compile(loss='mse', optimizer='adam', metrics=['mae'])\n",
    "#model.summary()"
   ]
  },
  {
   "cell_type": "code",
   "execution_count": 13,
   "id": "e0fd38c2",
   "metadata": {
    "ExecuteTime": {
     "end_time": "2023-04-25T14:57:09.369570Z",
     "start_time": "2023-04-25T14:56:55.550874Z"
    }
   },
   "outputs": [
    {
     "name": "stdout",
     "output_type": "stream",
     "text": [
      "(100000, 5, 5) (100000,)\n"
     ]
    }
   ],
   "source": [
    "NB_EXAMPLES = 100_000\n",
    "X = np.random.randint(0, 1_000, (NB_EXAMPLES, *GRID_SIZE))\n",
    "y = np.array([dp_solution(grid) for grid in X])\n",
    "print(X.shape, y.shape)"
   ]
  },
  {
   "cell_type": "code",
   "execution_count": 14,
   "id": "61a85c54",
   "metadata": {
    "ExecuteTime": {
     "end_time": "2023-04-25T14:59:46.854236Z",
     "start_time": "2023-04-25T14:57:09.386769Z"
    }
   },
   "outputs": [
    {
     "name": "stdout",
     "output_type": "stream",
     "text": [
      "Epoch 1/15\n",
      "3125/3125 [==============================] - 11s 3ms/step - loss: 31593.2188 - mae: 141.3444\n",
      "Epoch 2/15\n",
      "3125/3125 [==============================] - 10s 3ms/step - loss: 27824.9492 - mae: 132.7811\n",
      "Epoch 3/15\n",
      "3125/3125 [==============================] - 10s 3ms/step - loss: 24127.1777 - mae: 123.6798\n",
      "Epoch 4/15\n",
      "3125/3125 [==============================] - 10s 3ms/step - loss: 21371.9023 - mae: 116.3808\n",
      "Epoch 5/15\n",
      "3125/3125 [==============================] - 11s 3ms/step - loss: 18678.0742 - mae: 108.8631\n",
      "Epoch 6/15\n",
      "3125/3125 [==============================] - 12s 4ms/step - loss: 16965.7930 - mae: 103.8850\n",
      "Epoch 7/15\n",
      "3125/3125 [==============================] - 10s 3ms/step - loss: 15454.7715 - mae: 99.1124\n",
      "Epoch 8/15\n",
      "3125/3125 [==============================] - 10s 3ms/step - loss: 14433.9912 - mae: 95.9085\n",
      "Epoch 9/15\n",
      "3125/3125 [==============================] - 10s 3ms/step - loss: 13563.1650 - mae: 92.9004\n",
      "Epoch 10/15\n",
      "3125/3125 [==============================] - 10s 3ms/step - loss: 12500.2148 - mae: 89.3652\n",
      "Epoch 11/15\n",
      "3125/3125 [==============================] - 10s 3ms/step - loss: 11810.3223 - mae: 86.8294\n",
      "Epoch 12/15\n",
      "3125/3125 [==============================] - 10s 3ms/step - loss: 11100.6885 - mae: 84.1461\n",
      "Epoch 13/15\n",
      "3125/3125 [==============================] - 10s 3ms/step - loss: 10710.1338 - mae: 82.5355\n",
      "Epoch 14/15\n",
      "3125/3125 [==============================] - 10s 3ms/step - loss: 10327.5371 - mae: 81.1133\n",
      "Epoch 15/15\n",
      "3125/3125 [==============================] - 10s 3ms/step - loss: 9937.1992 - mae: 79.5221\n"
     ]
    }
   ],
   "source": [
    "history = model.fit(X, y, epochs=15, batch_size = 32, verbose=1) ;"
   ]
  },
  {
   "cell_type": "code",
   "execution_count": 35,
   "id": "929ec489",
   "metadata": {
    "ExecuteTime": {
     "end_time": "2023-04-25T15:03:40.731266Z",
     "start_time": "2023-04-25T15:03:40.723133Z"
    }
   },
   "outputs": [
    {
     "data": {
      "text/plain": [
       "array([[ 28, 413, 955, 695, 577],\n",
       "       [291, 603, 231, 834, 191],\n",
       "       [875, 474, 996, 317, 639],\n",
       "       [878, 400, 145, 400, 256],\n",
       "       [655, 287, 211, 115, 787]])"
      ]
     },
     "execution_count": 35,
     "metadata": {},
     "output_type": "execute_result"
    }
   ],
   "source": [
    "test_grid = np.random.randint(0, 1_000, GRID_SIZE)\n",
    "test_grid"
   ]
  },
  {
   "cell_type": "markdown",
   "id": "da64b834",
   "metadata": {},
   "source": [
    "Ground truth"
   ]
  },
  {
   "cell_type": "code",
   "execution_count": 36,
   "id": "e20b07f2",
   "metadata": {
    "ExecuteTime": {
     "end_time": "2023-04-25T15:03:41.910521Z",
     "start_time": "2023-04-25T15:03:41.902916Z"
    }
   },
   "outputs": [
    {
     "data": {
      "text/plain": [
       "3959"
      ]
     },
     "execution_count": 36,
     "metadata": {},
     "output_type": "execute_result"
    }
   ],
   "source": [
    "dp_solution(test_grid)"
   ]
  },
  {
   "cell_type": "markdown",
   "id": "08bd8553",
   "metadata": {},
   "source": [
    "Prediction"
   ]
  },
  {
   "cell_type": "code",
   "execution_count": 37,
   "id": "f140340e",
   "metadata": {
    "ExecuteTime": {
     "end_time": "2023-04-25T15:03:43.057667Z",
     "start_time": "2023-04-25T15:03:42.987012Z"
    }
   },
   "outputs": [
    {
     "data": {
      "text/plain": [
       "array([[4077.5342]], dtype=float32)"
      ]
     },
     "execution_count": 37,
     "metadata": {},
     "output_type": "execute_result"
    }
   ],
   "source": [
    "model.predict(test_grid.reshape(1, *GRID_SIZE))"
   ]
  },
  {
   "cell_type": "markdown",
   "id": "fb0cbb9d",
   "metadata": {},
   "source": [
    "model does badly, it'd likely be better to use a convnet instead, due to the grid shape of the inputs"
   ]
  },
  {
   "cell_type": "markdown",
   "id": "d9302560",
   "metadata": {},
   "source": [
    "## Convnet"
   ]
  },
  {
   "cell_type": "code",
   "execution_count": 45,
   "id": "ca412049",
   "metadata": {
    "ExecuteTime": {
     "end_time": "2023-04-25T15:07:57.366993Z",
     "start_time": "2023-04-25T15:07:57.288023Z"
    }
   },
   "outputs": [
    {
     "name": "stdout",
     "output_type": "stream",
     "text": [
      "Model: \"sequential_6\"\n",
      "_________________________________________________________________\n",
      " Layer (type)                Output Shape              Param #   \n",
      "=================================================================\n",
      " conv2d_7 (Conv2D)           (None, 3, 3, 6)           60        \n",
      "                                                                 \n",
      " conv2d_8 (Conv2D)           (None, 1, 1, 4)           220       \n",
      "                                                                 \n",
      " flatten_2 (Flatten)         (None, 4)                 0         \n",
      "                                                                 \n",
      " dense_1 (Dense)             (None, 1)                 5         \n",
      "                                                                 \n",
      "=================================================================\n",
      "Total params: 285\n",
      "Trainable params: 285\n",
      "Non-trainable params: 0\n",
      "_________________________________________________________________\n"
     ]
    }
   ],
   "source": [
    "cnn = Sequential()\n",
    "cnn.add(layers.Conv2D(6, kernel_size=(3, 3), activation='relu', input_shape=(5,5,1)))\n",
    "cnn.add(layers.Conv2D(4, kernel_size=(3), activation='relu')) # kernel_size = 3 <==> (3, 3)\n",
    "cnn.add(layers.Flatten())\n",
    "cnn.add(layers.Dense(1, activation='linear')) \n",
    "\n",
    "cnn.summary()"
   ]
  },
  {
   "cell_type": "code",
   "execution_count": 46,
   "id": "802fa0a5",
   "metadata": {
    "ExecuteTime": {
     "end_time": "2023-04-25T15:09:08.471531Z",
     "start_time": "2023-04-25T15:09:08.458031Z"
    }
   },
   "outputs": [],
   "source": [
    "cnn.compile(loss='mse', optimizer='adam', metrics=['mae'])"
   ]
  },
  {
   "cell_type": "code",
   "execution_count": 47,
   "id": "fbf51f9a",
   "metadata": {
    "ExecuteTime": {
     "end_time": "2023-04-25T15:10:54.042661Z",
     "start_time": "2023-04-25T15:09:23.477615Z"
    },
    "scrolled": false
   },
   "outputs": [
    {
     "name": "stdout",
     "output_type": "stream",
     "text": [
      "Epoch 1/15\n",
      "3125/3125 [==============================] - 8s 2ms/step - loss: 282511.9062 - mae: 290.0032\n",
      "Epoch 2/15\n",
      "3125/3125 [==============================] - 7s 2ms/step - loss: 51112.2109 - mae: 179.8060\n",
      "Epoch 3/15\n",
      "3125/3125 [==============================] - 7s 2ms/step - loss: 47082.7734 - mae: 172.5562\n",
      "Epoch 4/15\n",
      "3125/3125 [==============================] - 7s 2ms/step - loss: 44613.5664 - mae: 167.9409\n",
      "Epoch 5/15\n",
      "3125/3125 [==============================] - 7s 2ms/step - loss: 42795.7812 - mae: 164.3707\n",
      "Epoch 6/15\n",
      "3125/3125 [==============================] - 7s 2ms/step - loss: 41443.9883 - mae: 161.9072\n",
      "Epoch 7/15\n",
      "3125/3125 [==============================] - 7s 2ms/step - loss: 40469.9258 - mae: 159.9222\n",
      "Epoch 8/15\n",
      "3125/3125 [==============================] - 7s 2ms/step - loss: 39760.0352 - mae: 158.6573\n",
      "Epoch 9/15\n",
      "3125/3125 [==============================] - 7s 2ms/step - loss: 39172.2031 - mae: 157.4951\n",
      "Epoch 10/15\n",
      "3125/3125 [==============================] - 7s 2ms/step - loss: 38857.6641 - mae: 156.8828\n",
      "Epoch 11/15\n",
      "3125/3125 [==============================] - 7s 2ms/step - loss: 38611.8359 - mae: 156.3712\n",
      "Epoch 12/15\n",
      "3125/3125 [==============================] - 7s 2ms/step - loss: 38052.2969 - mae: 155.2438\n",
      "Epoch 13/15\n",
      "1557/3125 [=============>................] - ETA: 3s - loss: 37481.6445 - mae: 154.1238"
     ]
    },
    {
     "ename": "KeyboardInterrupt",
     "evalue": "",
     "output_type": "error",
     "traceback": [
      "\u001b[0;31m---------------------------------------------------------------------------\u001b[0m",
      "\u001b[0;31mKeyboardInterrupt\u001b[0m                         Traceback (most recent call last)",
      "\u001b[0;32m/tmp/ipykernel_8173/3807371328.py\u001b[0m in \u001b[0;36m<module>\u001b[0;34m\u001b[0m\n\u001b[0;32m----> 1\u001b[0;31m \u001b[0mhistory\u001b[0m \u001b[0;34m=\u001b[0m \u001b[0mcnn\u001b[0m\u001b[0;34m.\u001b[0m\u001b[0mfit\u001b[0m\u001b[0;34m(\u001b[0m\u001b[0mX\u001b[0m\u001b[0;34m,\u001b[0m \u001b[0my\u001b[0m\u001b[0;34m,\u001b[0m \u001b[0mepochs\u001b[0m\u001b[0;34m=\u001b[0m\u001b[0;36m15\u001b[0m\u001b[0;34m,\u001b[0m \u001b[0mbatch_size\u001b[0m \u001b[0;34m=\u001b[0m \u001b[0;36m32\u001b[0m\u001b[0;34m,\u001b[0m \u001b[0mverbose\u001b[0m\u001b[0;34m=\u001b[0m\u001b[0;36m1\u001b[0m\u001b[0;34m)\u001b[0m \u001b[0;34m;\u001b[0m\u001b[0;34m\u001b[0m\u001b[0;34m\u001b[0m\u001b[0m\n\u001b[0m",
      "\u001b[0;32m~/.pyenv/versions/3.10.0/envs/lewagon_current/lib/python3.10/site-packages/keras/utils/traceback_utils.py\u001b[0m in \u001b[0;36merror_handler\u001b[0;34m(*args, **kwargs)\u001b[0m\n\u001b[1;32m     62\u001b[0m     \u001b[0mfiltered_tb\u001b[0m \u001b[0;34m=\u001b[0m \u001b[0;32mNone\u001b[0m\u001b[0;34m\u001b[0m\u001b[0;34m\u001b[0m\u001b[0m\n\u001b[1;32m     63\u001b[0m     \u001b[0;32mtry\u001b[0m\u001b[0;34m:\u001b[0m\u001b[0;34m\u001b[0m\u001b[0;34m\u001b[0m\u001b[0m\n\u001b[0;32m---> 64\u001b[0;31m       \u001b[0;32mreturn\u001b[0m \u001b[0mfn\u001b[0m\u001b[0;34m(\u001b[0m\u001b[0;34m*\u001b[0m\u001b[0margs\u001b[0m\u001b[0;34m,\u001b[0m \u001b[0;34m**\u001b[0m\u001b[0mkwargs\u001b[0m\u001b[0;34m)\u001b[0m\u001b[0;34m\u001b[0m\u001b[0;34m\u001b[0m\u001b[0m\n\u001b[0m\u001b[1;32m     65\u001b[0m     \u001b[0;32mexcept\u001b[0m \u001b[0mException\u001b[0m \u001b[0;32mas\u001b[0m \u001b[0me\u001b[0m\u001b[0;34m:\u001b[0m  \u001b[0;31m# pylint: disable=broad-except\u001b[0m\u001b[0;34m\u001b[0m\u001b[0;34m\u001b[0m\u001b[0m\n\u001b[1;32m     66\u001b[0m       \u001b[0mfiltered_tb\u001b[0m \u001b[0;34m=\u001b[0m \u001b[0m_process_traceback_frames\u001b[0m\u001b[0;34m(\u001b[0m\u001b[0me\u001b[0m\u001b[0;34m.\u001b[0m\u001b[0m__traceback__\u001b[0m\u001b[0;34m)\u001b[0m\u001b[0;34m\u001b[0m\u001b[0;34m\u001b[0m\u001b[0m\n",
      "\u001b[0;32m~/.pyenv/versions/3.10.0/envs/lewagon_current/lib/python3.10/site-packages/keras/engine/training.py\u001b[0m in \u001b[0;36mfit\u001b[0;34m(self, x, y, batch_size, epochs, verbose, callbacks, validation_split, validation_data, shuffle, class_weight, sample_weight, initial_epoch, steps_per_epoch, validation_steps, validation_batch_size, validation_freq, max_queue_size, workers, use_multiprocessing)\u001b[0m\n\u001b[1;32m   1382\u001b[0m                 _r=1):\n\u001b[1;32m   1383\u001b[0m               \u001b[0mcallbacks\u001b[0m\u001b[0;34m.\u001b[0m\u001b[0mon_train_batch_begin\u001b[0m\u001b[0;34m(\u001b[0m\u001b[0mstep\u001b[0m\u001b[0;34m)\u001b[0m\u001b[0;34m\u001b[0m\u001b[0;34m\u001b[0m\u001b[0m\n\u001b[0;32m-> 1384\u001b[0;31m               \u001b[0mtmp_logs\u001b[0m \u001b[0;34m=\u001b[0m \u001b[0mself\u001b[0m\u001b[0;34m.\u001b[0m\u001b[0mtrain_function\u001b[0m\u001b[0;34m(\u001b[0m\u001b[0miterator\u001b[0m\u001b[0;34m)\u001b[0m\u001b[0;34m\u001b[0m\u001b[0;34m\u001b[0m\u001b[0m\n\u001b[0m\u001b[1;32m   1385\u001b[0m               \u001b[0;32mif\u001b[0m \u001b[0mdata_handler\u001b[0m\u001b[0;34m.\u001b[0m\u001b[0mshould_sync\u001b[0m\u001b[0;34m:\u001b[0m\u001b[0;34m\u001b[0m\u001b[0;34m\u001b[0m\u001b[0m\n\u001b[1;32m   1386\u001b[0m                 \u001b[0mcontext\u001b[0m\u001b[0;34m.\u001b[0m\u001b[0masync_wait\u001b[0m\u001b[0;34m(\u001b[0m\u001b[0;34m)\u001b[0m\u001b[0;34m\u001b[0m\u001b[0;34m\u001b[0m\u001b[0m\n",
      "\u001b[0;32m~/.pyenv/versions/3.10.0/envs/lewagon_current/lib/python3.10/site-packages/tensorflow/python/util/traceback_utils.py\u001b[0m in \u001b[0;36merror_handler\u001b[0;34m(*args, **kwargs)\u001b[0m\n\u001b[1;32m    148\u001b[0m     \u001b[0mfiltered_tb\u001b[0m \u001b[0;34m=\u001b[0m \u001b[0;32mNone\u001b[0m\u001b[0;34m\u001b[0m\u001b[0;34m\u001b[0m\u001b[0m\n\u001b[1;32m    149\u001b[0m     \u001b[0;32mtry\u001b[0m\u001b[0;34m:\u001b[0m\u001b[0;34m\u001b[0m\u001b[0;34m\u001b[0m\u001b[0m\n\u001b[0;32m--> 150\u001b[0;31m       \u001b[0;32mreturn\u001b[0m \u001b[0mfn\u001b[0m\u001b[0;34m(\u001b[0m\u001b[0;34m*\u001b[0m\u001b[0margs\u001b[0m\u001b[0;34m,\u001b[0m \u001b[0;34m**\u001b[0m\u001b[0mkwargs\u001b[0m\u001b[0;34m)\u001b[0m\u001b[0;34m\u001b[0m\u001b[0;34m\u001b[0m\u001b[0m\n\u001b[0m\u001b[1;32m    151\u001b[0m     \u001b[0;32mexcept\u001b[0m \u001b[0mException\u001b[0m \u001b[0;32mas\u001b[0m \u001b[0me\u001b[0m\u001b[0;34m:\u001b[0m\u001b[0;34m\u001b[0m\u001b[0;34m\u001b[0m\u001b[0m\n\u001b[1;32m    152\u001b[0m       \u001b[0mfiltered_tb\u001b[0m \u001b[0;34m=\u001b[0m \u001b[0m_process_traceback_frames\u001b[0m\u001b[0;34m(\u001b[0m\u001b[0me\u001b[0m\u001b[0;34m.\u001b[0m\u001b[0m__traceback__\u001b[0m\u001b[0;34m)\u001b[0m\u001b[0;34m\u001b[0m\u001b[0;34m\u001b[0m\u001b[0m\n",
      "\u001b[0;32m~/.pyenv/versions/3.10.0/envs/lewagon_current/lib/python3.10/site-packages/tensorflow/python/eager/def_function.py\u001b[0m in \u001b[0;36m__call__\u001b[0;34m(self, *args, **kwds)\u001b[0m\n\u001b[1;32m    913\u001b[0m \u001b[0;34m\u001b[0m\u001b[0m\n\u001b[1;32m    914\u001b[0m       \u001b[0;32mwith\u001b[0m \u001b[0mOptionalXlaContext\u001b[0m\u001b[0;34m(\u001b[0m\u001b[0mself\u001b[0m\u001b[0;34m.\u001b[0m\u001b[0m_jit_compile\u001b[0m\u001b[0;34m)\u001b[0m\u001b[0;34m:\u001b[0m\u001b[0;34m\u001b[0m\u001b[0;34m\u001b[0m\u001b[0m\n\u001b[0;32m--> 915\u001b[0;31m         \u001b[0mresult\u001b[0m \u001b[0;34m=\u001b[0m \u001b[0mself\u001b[0m\u001b[0;34m.\u001b[0m\u001b[0m_call\u001b[0m\u001b[0;34m(\u001b[0m\u001b[0;34m*\u001b[0m\u001b[0margs\u001b[0m\u001b[0;34m,\u001b[0m \u001b[0;34m**\u001b[0m\u001b[0mkwds\u001b[0m\u001b[0;34m)\u001b[0m\u001b[0;34m\u001b[0m\u001b[0;34m\u001b[0m\u001b[0m\n\u001b[0m\u001b[1;32m    916\u001b[0m \u001b[0;34m\u001b[0m\u001b[0m\n\u001b[1;32m    917\u001b[0m       \u001b[0mnew_tracing_count\u001b[0m \u001b[0;34m=\u001b[0m \u001b[0mself\u001b[0m\u001b[0;34m.\u001b[0m\u001b[0mexperimental_get_tracing_count\u001b[0m\u001b[0;34m(\u001b[0m\u001b[0;34m)\u001b[0m\u001b[0;34m\u001b[0m\u001b[0;34m\u001b[0m\u001b[0m\n",
      "\u001b[0;32m~/.pyenv/versions/3.10.0/envs/lewagon_current/lib/python3.10/site-packages/tensorflow/python/eager/def_function.py\u001b[0m in \u001b[0;36m_call\u001b[0;34m(self, *args, **kwds)\u001b[0m\n\u001b[1;32m    945\u001b[0m       \u001b[0;31m# In this case we have created variables on the first call, so we run the\u001b[0m\u001b[0;34m\u001b[0m\u001b[0;34m\u001b[0m\u001b[0m\n\u001b[1;32m    946\u001b[0m       \u001b[0;31m# defunned version which is guaranteed to never create variables.\u001b[0m\u001b[0;34m\u001b[0m\u001b[0;34m\u001b[0m\u001b[0m\n\u001b[0;32m--> 947\u001b[0;31m       \u001b[0;32mreturn\u001b[0m \u001b[0mself\u001b[0m\u001b[0;34m.\u001b[0m\u001b[0m_stateless_fn\u001b[0m\u001b[0;34m(\u001b[0m\u001b[0;34m*\u001b[0m\u001b[0margs\u001b[0m\u001b[0;34m,\u001b[0m \u001b[0;34m**\u001b[0m\u001b[0mkwds\u001b[0m\u001b[0;34m)\u001b[0m  \u001b[0;31m# pylint: disable=not-callable\u001b[0m\u001b[0;34m\u001b[0m\u001b[0;34m\u001b[0m\u001b[0m\n\u001b[0m\u001b[1;32m    948\u001b[0m     \u001b[0;32melif\u001b[0m \u001b[0mself\u001b[0m\u001b[0;34m.\u001b[0m\u001b[0m_stateful_fn\u001b[0m \u001b[0;32mis\u001b[0m \u001b[0;32mnot\u001b[0m \u001b[0;32mNone\u001b[0m\u001b[0;34m:\u001b[0m\u001b[0;34m\u001b[0m\u001b[0;34m\u001b[0m\u001b[0m\n\u001b[1;32m    949\u001b[0m       \u001b[0;31m# Release the lock early so that multiple threads can perform the call\u001b[0m\u001b[0;34m\u001b[0m\u001b[0;34m\u001b[0m\u001b[0m\n",
      "\u001b[0;32m~/.pyenv/versions/3.10.0/envs/lewagon_current/lib/python3.10/site-packages/tensorflow/python/eager/function.py\u001b[0m in \u001b[0;36m__call__\u001b[0;34m(self, *args, **kwargs)\u001b[0m\n\u001b[1;32m   2954\u001b[0m       (graph_function,\n\u001b[1;32m   2955\u001b[0m        filtered_flat_args) = self._maybe_define_function(args, kwargs)\n\u001b[0;32m-> 2956\u001b[0;31m     return graph_function._call_flat(\n\u001b[0m\u001b[1;32m   2957\u001b[0m         filtered_flat_args, captured_inputs=graph_function.captured_inputs)  # pylint: disable=protected-access\n\u001b[1;32m   2958\u001b[0m \u001b[0;34m\u001b[0m\u001b[0m\n",
      "\u001b[0;32m~/.pyenv/versions/3.10.0/envs/lewagon_current/lib/python3.10/site-packages/tensorflow/python/eager/function.py\u001b[0m in \u001b[0;36m_call_flat\u001b[0;34m(self, args, captured_inputs, cancellation_manager)\u001b[0m\n\u001b[1;32m   1851\u001b[0m         and executing_eagerly):\n\u001b[1;32m   1852\u001b[0m       \u001b[0;31m# No tape is watching; skip to running the function.\u001b[0m\u001b[0;34m\u001b[0m\u001b[0;34m\u001b[0m\u001b[0m\n\u001b[0;32m-> 1853\u001b[0;31m       return self._build_call_outputs(self._inference_function.call(\n\u001b[0m\u001b[1;32m   1854\u001b[0m           ctx, args, cancellation_manager=cancellation_manager))\n\u001b[1;32m   1855\u001b[0m     forward_backward = self._select_forward_and_backward_functions(\n",
      "\u001b[0;32m~/.pyenv/versions/3.10.0/envs/lewagon_current/lib/python3.10/site-packages/tensorflow/python/eager/function.py\u001b[0m in \u001b[0;36mcall\u001b[0;34m(self, ctx, args, cancellation_manager)\u001b[0m\n\u001b[1;32m    497\u001b[0m       \u001b[0;32mwith\u001b[0m \u001b[0m_InterpolateFunctionError\u001b[0m\u001b[0;34m(\u001b[0m\u001b[0mself\u001b[0m\u001b[0;34m)\u001b[0m\u001b[0;34m:\u001b[0m\u001b[0;34m\u001b[0m\u001b[0;34m\u001b[0m\u001b[0m\n\u001b[1;32m    498\u001b[0m         \u001b[0;32mif\u001b[0m \u001b[0mcancellation_manager\u001b[0m \u001b[0;32mis\u001b[0m \u001b[0;32mNone\u001b[0m\u001b[0;34m:\u001b[0m\u001b[0;34m\u001b[0m\u001b[0;34m\u001b[0m\u001b[0m\n\u001b[0;32m--> 499\u001b[0;31m           outputs = execute.execute(\n\u001b[0m\u001b[1;32m    500\u001b[0m               \u001b[0mstr\u001b[0m\u001b[0;34m(\u001b[0m\u001b[0mself\u001b[0m\u001b[0;34m.\u001b[0m\u001b[0msignature\u001b[0m\u001b[0;34m.\u001b[0m\u001b[0mname\u001b[0m\u001b[0;34m)\u001b[0m\u001b[0;34m,\u001b[0m\u001b[0;34m\u001b[0m\u001b[0;34m\u001b[0m\u001b[0m\n\u001b[1;32m    501\u001b[0m               \u001b[0mnum_outputs\u001b[0m\u001b[0;34m=\u001b[0m\u001b[0mself\u001b[0m\u001b[0;34m.\u001b[0m\u001b[0m_num_outputs\u001b[0m\u001b[0;34m,\u001b[0m\u001b[0;34m\u001b[0m\u001b[0;34m\u001b[0m\u001b[0m\n",
      "\u001b[0;32m~/.pyenv/versions/3.10.0/envs/lewagon_current/lib/python3.10/site-packages/tensorflow/python/eager/execute.py\u001b[0m in \u001b[0;36mquick_execute\u001b[0;34m(op_name, num_outputs, inputs, attrs, ctx, name)\u001b[0m\n\u001b[1;32m     52\u001b[0m   \u001b[0;32mtry\u001b[0m\u001b[0;34m:\u001b[0m\u001b[0;34m\u001b[0m\u001b[0;34m\u001b[0m\u001b[0m\n\u001b[1;32m     53\u001b[0m     \u001b[0mctx\u001b[0m\u001b[0;34m.\u001b[0m\u001b[0mensure_initialized\u001b[0m\u001b[0;34m(\u001b[0m\u001b[0;34m)\u001b[0m\u001b[0;34m\u001b[0m\u001b[0;34m\u001b[0m\u001b[0m\n\u001b[0;32m---> 54\u001b[0;31m     tensors = pywrap_tfe.TFE_Py_Execute(ctx._handle, device_name, op_name,\n\u001b[0m\u001b[1;32m     55\u001b[0m                                         inputs, attrs, num_outputs)\n\u001b[1;32m     56\u001b[0m   \u001b[0;32mexcept\u001b[0m \u001b[0mcore\u001b[0m\u001b[0;34m.\u001b[0m\u001b[0m_NotOkStatusException\u001b[0m \u001b[0;32mas\u001b[0m \u001b[0me\u001b[0m\u001b[0;34m:\u001b[0m\u001b[0;34m\u001b[0m\u001b[0;34m\u001b[0m\u001b[0m\n",
      "\u001b[0;31mKeyboardInterrupt\u001b[0m: "
     ]
    }
   ],
   "source": [
    "history = cnn.fit(X, y, epochs=15, batch_size = 32, verbose=1) ;"
   ]
  },
  {
   "cell_type": "code",
   "execution_count": null,
   "id": "06e97ce5",
   "metadata": {},
   "outputs": [],
   "source": []
  }
 ],
 "metadata": {
  "kernelspec": {
   "display_name": "Python 3 (ipykernel)",
   "language": "python",
   "name": "python3"
  },
  "language_info": {
   "codemirror_mode": {
    "name": "ipython",
    "version": 3
   },
   "file_extension": ".py",
   "mimetype": "text/x-python",
   "name": "python",
   "nbconvert_exporter": "python",
   "pygments_lexer": "ipython3",
   "version": "3.10.0"
  },
  "toc": {
   "base_numbering": 1,
   "nav_menu": {},
   "number_sections": true,
   "sideBar": true,
   "skip_h1_title": false,
   "title_cell": "Table of Contents",
   "title_sidebar": "Contents",
   "toc_cell": false,
   "toc_position": {},
   "toc_section_display": true,
   "toc_window_display": false
  },
  "varInspector": {
   "cols": {
    "lenName": 16,
    "lenType": 16,
    "lenVar": 40
   },
   "kernels_config": {
    "python": {
     "delete_cmd_postfix": "",
     "delete_cmd_prefix": "del ",
     "library": "var_list.py",
     "varRefreshCmd": "print(var_dic_list())"
    },
    "r": {
     "delete_cmd_postfix": ") ",
     "delete_cmd_prefix": "rm(",
     "library": "var_list.r",
     "varRefreshCmd": "cat(var_dic_list()) "
    }
   },
   "types_to_exclude": [
    "module",
    "function",
    "builtin_function_or_method",
    "instance",
    "_Feature"
   ],
   "window_display": false
  }
 },
 "nbformat": 4,
 "nbformat_minor": 5
}
